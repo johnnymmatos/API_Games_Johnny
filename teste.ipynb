{
 "cells": [
  {
   "cell_type": "code",
   "execution_count": 1,
   "id": "76523805",
   "metadata": {},
   "outputs": [
    {
     "name": "stdout",
     "output_type": "stream",
     "text": [
      "200 == 200 - Resposta OK - Acesso concedido com sucesso!\n"
     ]
    }
   ],
   "source": [
    "import pandas as pd\n",
    "import requests\n",
    "import streamlit as st\n",
    "from dotenv import load_dotenv\n",
    "import os\n",
    "#Codigo para consumir dados de uma API no caso de dados de jogos, origem API RAWG.\n",
    "#Apos solicitar a chave de acesso no site da RAWG, Ela e o acesso para buscar os dados dentro de do sistema\n",
    "\n",
    "\n",
    "load_dotenv() #Por seguranca da chave\"key\" gerei um arquivo env para o git ignorar , mais e so voce gerar a sua chave no site e subistituir o comando [os.getenv('chave')] pela sua key gerada.\n",
    "key = os.getenv('chave_rawg') #Chave de acesso\n",
    "\n",
    "\n",
    "#Caminho da API no caso a URL, use a funcao formart f para trazer a variavel nos {}, no caso URL + KEY\n",
    "url = f'https://api.rawg.io/api/games?key={key}'\n",
    "\n",
    "\n",
    "#Respota da solicitacao dos dados para a api\n",
    "request = requests.get(url)\n",
    "\n",
    "\n",
    "#Validador da resposta, apenas uma condicional para retorno do request com o response ! padrao resposta 200\n",
    "if request.status_code == 200:\n",
    "    print (f'200 == {request.status_code} - Resposta OK - Acesso concedido com sucesso!')\n",
    "else:\n",
    "    print(f'Houve falha na resposta erro: {request.status_code}')\n",
    "\n",
    "\n",
    "#Armazena os doados da resposta 200 na variavel dados no formato de json\n",
    "response = request.json()\n",
    "\n",
    "\n",
    "#Traz o resultado do jason e formata em formato tabela no caso um dataframe em pandas (tabela na memoria)\n",
    "req = response['results']\n",
    "rawg_api = pd.json_normalize(req)\n",
    "\n",
    "#Para trazer todas as colunas para visualizacao\n",
    "pd.set_option('display.max_columns', 40)"
   ]
  },
  {
   "cell_type": "code",
   "execution_count": 2,
   "id": "64aab9be",
   "metadata": {},
   "outputs": [
    {
     "data": {
      "text/plain": [
       "Index(['id', 'slug', 'name', 'released', 'tba', 'background_image', 'rating',\n",
       "       'rating_top', 'ratings', 'ratings_count', 'reviews_text_count', 'added',\n",
       "       'metacritic', 'playtime', 'suggestions_count', 'updated', 'user_game',\n",
       "       'reviews_count', 'saturated_color', 'dominant_color', 'platforms',\n",
       "       'parent_platforms', 'genres', 'stores', 'clip', 'tags',\n",
       "       'short_screenshots', 'added_by_status.yet', 'added_by_status.owned',\n",
       "       'added_by_status.beaten', 'added_by_status.toplay',\n",
       "       'added_by_status.dropped', 'added_by_status.playing', 'esrb_rating.id',\n",
       "       'esrb_rating.name', 'esrb_rating.slug'],\n",
       "      dtype='object')"
      ]
     },
     "execution_count": 2,
     "metadata": {},
     "output_type": "execute_result"
    }
   ],
   "source": [
    "#Visualizar as 5 primeiras/ultimas linhas / e verificar as informacoes de tipo de dados e colunas \n",
    "rawg_api.head(2)\n",
    "#tabela.tail()\n",
    "#tabela.info()\n",
    "rawg_api.columns"
   ]
  },
  {
   "cell_type": "code",
   "execution_count": 3,
   "id": "06cc2835",
   "metadata": {},
   "outputs": [],
   "source": [
    "#Tratamento de dados\n",
    "#Selecao de apenas as colunas de uso\n",
    "df = rawg_api[['id', 'slug', 'name', 'released','rating','rating_top', 'ratings', 'updated',  'platforms','parent_platforms', 'genres', 'stores','tags' ]]"
   ]
  },
  {
   "cell_type": "code",
   "execution_count": 4,
   "id": "ddb8248e",
   "metadata": {},
   "outputs": [
    {
     "data": {
      "text/html": [
       "<div>\n",
       "<style scoped>\n",
       "    .dataframe tbody tr th:only-of-type {\n",
       "        vertical-align: middle;\n",
       "    }\n",
       "\n",
       "    .dataframe tbody tr th {\n",
       "        vertical-align: top;\n",
       "    }\n",
       "\n",
       "    .dataframe thead th {\n",
       "        text-align: right;\n",
       "    }\n",
       "</style>\n",
       "<table border=\"1\" class=\"dataframe\">\n",
       "  <thead>\n",
       "    <tr style=\"text-align: right;\">\n",
       "      <th></th>\n",
       "      <th>id</th>\n",
       "      <th>slug</th>\n",
       "      <th>name</th>\n",
       "      <th>released</th>\n",
       "      <th>rating</th>\n",
       "      <th>rating_top</th>\n",
       "      <th>ratings</th>\n",
       "      <th>updated</th>\n",
       "      <th>platforms</th>\n",
       "      <th>parent_platforms</th>\n",
       "      <th>genres</th>\n",
       "      <th>stores</th>\n",
       "      <th>tags</th>\n",
       "    </tr>\n",
       "  </thead>\n",
       "  <tbody>\n",
       "    <tr>\n",
       "      <th>0</th>\n",
       "      <td>3498</td>\n",
       "      <td>grand-theft-auto-v</td>\n",
       "      <td>Grand Theft Auto V</td>\n",
       "      <td>2013-09-17</td>\n",
       "      <td>4.47</td>\n",
       "      <td>5</td>\n",
       "      <td>[{'id': 5, 'title': 'exceptional', 'count': 42...</td>\n",
       "      <td>2025-05-17T22:07:54</td>\n",
       "      <td>[{'platform': {'id': 4, 'name': 'PC', 'slug': ...</td>\n",
       "      <td>[{'platform': {'id': 1, 'name': 'PC', 'slug': ...</td>\n",
       "      <td>[{'id': 4, 'name': 'Action', 'slug': 'action',...</td>\n",
       "      <td>[{'id': 290376, 'store': {'id': 1, 'name': 'St...</td>\n",
       "      <td>[{'id': 31, 'name': 'Singleplayer', 'slug': 's...</td>\n",
       "    </tr>\n",
       "    <tr>\n",
       "      <th>1</th>\n",
       "      <td>3328</td>\n",
       "      <td>the-witcher-3-wild-hunt</td>\n",
       "      <td>The Witcher 3: Wild Hunt</td>\n",
       "      <td>2015-05-18</td>\n",
       "      <td>4.65</td>\n",
       "      <td>5</td>\n",
       "      <td>[{'id': 5, 'title': 'exceptional', 'count': 53...</td>\n",
       "      <td>2025-05-18T17:12:24</td>\n",
       "      <td>[{'platform': {'id': 186, 'name': 'Xbox Series...</td>\n",
       "      <td>[{'platform': {'id': 1, 'name': 'PC', 'slug': ...</td>\n",
       "      <td>[{'id': 4, 'name': 'Action', 'slug': 'action',...</td>\n",
       "      <td>[{'id': 354780, 'store': {'id': 5, 'name': 'GO...</td>\n",
       "      <td>[{'id': 31, 'name': 'Singleplayer', 'slug': 's...</td>\n",
       "    </tr>\n",
       "  </tbody>\n",
       "</table>\n",
       "</div>"
      ],
      "text/plain": [
       "     id                     slug                      name    released  \\\n",
       "0  3498       grand-theft-auto-v        Grand Theft Auto V  2013-09-17   \n",
       "1  3328  the-witcher-3-wild-hunt  The Witcher 3: Wild Hunt  2015-05-18   \n",
       "\n",
       "   rating  rating_top                                            ratings  \\\n",
       "0    4.47           5  [{'id': 5, 'title': 'exceptional', 'count': 42...   \n",
       "1    4.65           5  [{'id': 5, 'title': 'exceptional', 'count': 53...   \n",
       "\n",
       "               updated                                          platforms  \\\n",
       "0  2025-05-17T22:07:54  [{'platform': {'id': 4, 'name': 'PC', 'slug': ...   \n",
       "1  2025-05-18T17:12:24  [{'platform': {'id': 186, 'name': 'Xbox Series...   \n",
       "\n",
       "                                    parent_platforms  \\\n",
       "0  [{'platform': {'id': 1, 'name': 'PC', 'slug': ...   \n",
       "1  [{'platform': {'id': 1, 'name': 'PC', 'slug': ...   \n",
       "\n",
       "                                              genres  \\\n",
       "0  [{'id': 4, 'name': 'Action', 'slug': 'action',...   \n",
       "1  [{'id': 4, 'name': 'Action', 'slug': 'action',...   \n",
       "\n",
       "                                              stores  \\\n",
       "0  [{'id': 290376, 'store': {'id': 1, 'name': 'St...   \n",
       "1  [{'id': 354780, 'store': {'id': 5, 'name': 'GO...   \n",
       "\n",
       "                                                tags  \n",
       "0  [{'id': 31, 'name': 'Singleplayer', 'slug': 's...  \n",
       "1  [{'id': 31, 'name': 'Singleplayer', 'slug': 's...  "
      ]
     },
     "execution_count": 4,
     "metadata": {},
     "output_type": "execute_result"
    }
   ],
   "source": [
    "df.head(2)"
   ]
  },
  {
   "cell_type": "code",
   "execution_count": 5,
   "id": "5c08ec02",
   "metadata": {},
   "outputs": [],
   "source": [
    "#Funcao para extrair as listas de dentro do dataframe principal a exemplo metodo explode \n",
    "def extrair_coluna(df, coluna):\n",
    "    # Copiar apenas a coluna do df de origem\n",
    "    df_temp = df[['id', coluna]].copy()\n",
    "\n",
    "    # Converter strings para listas de dicionários (se necessário)\n",
    "    df_temp[coluna] = df_temp[coluna].apply(lambda x: ast.literal_eval(x) if isinstance(x, str) else x)\n",
    "\n",
    "    # Explodir listas metodos do pandas\n",
    "    df_explodido = df_temp.explode(coluna).reset_index(drop=True)\n",
    "\n",
    "    # Normalizar os dicionários da lista\n",
    "    df_normalizado = pd.json_normalize(df_explodido[coluna])\n",
    "\n",
    "    # Juntar os dados com o id original\n",
    "    df_resultado = pd.concat([df_explodido[['id']], df_normalizado], axis=1)\n",
    "\n",
    "    return df_resultado\n"
   ]
  },
  {
   "cell_type": "code",
   "execution_count": null,
   "id": "9feef4c4",
   "metadata": {},
   "outputs": [],
   "source": [
    "#Excultando as funcoes para transforma em dataframe as lista que estao dentro das colunas\n",
    "ratings = extrair_coluna(rawg_api,'ratings')\n",
    "platforms = extrair_coluna(rawg_api,'platforms')\n",
    "genres = extrair_coluna(rawg_api,'genres')\n",
    "stores = extrair_coluna(rawg_api,'stores')\n",
    "tags = extrair_coluna(rawg_api,'tags')"
   ]
  },
  {
   "cell_type": "code",
   "execution_count": 9,
   "id": "e4993429",
   "metadata": {},
   "outputs": [],
   "source": [
    "#Filtro da separacao das listas do df principal\n",
    "platforms = platforms[['id','released_at', 'platform.name']]\n",
    "genres = genres[['id', 'name']]\n",
    "stores = stores[['id','store.name']]\n",
    "tags = tags[['id', 'name', 'language']]\n",
    "\n",
    "#Df princiapal apos realizar os filtros\n",
    "df = df[['id', 'slug', 'name', 'released','rating','rating_top','updated']]\n",
    "#Tratamento de datas\n",
    "df['released'] = pd.to_datetime(df['released'])\n",
    "df['updated'] = pd.to_datetime(df['updated']).dt.date\n",
    "df['updated'] = pd.to_datetime(df['updated'])"
   ]
  }
 ],
 "metadata": {
  "kernelspec": {
   "display_name": "Python 3",
   "language": "python",
   "name": "python3"
  },
  "language_info": {
   "codemirror_mode": {
    "name": "ipython",
    "version": 3
   },
   "file_extension": ".py",
   "mimetype": "text/x-python",
   "name": "python",
   "nbconvert_exporter": "python",
   "pygments_lexer": "ipython3",
   "version": "3.12.10"
  }
 },
 "nbformat": 4,
 "nbformat_minor": 5
}
